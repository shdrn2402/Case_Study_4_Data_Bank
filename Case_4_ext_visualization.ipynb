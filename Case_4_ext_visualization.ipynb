{
 "cells": [
  {
   "cell_type": "markdown",
   "id": "9e4ae7b6-4220-4f8b-961d-c71d0c424947",
   "metadata": {},
   "source": [
    "# Marketing Visualization and Presentation for Data Bank  \n",
    "<a id=\"contents\"></a>\n",
    "\n",
    "**Contents:**  \n",
    "\n",
    "- [Project Objective](#projectobjective)  \n",
    "- [Import Required Libraries](#importrequiredlibraries)  \n",
    "- [Customer Nodes Visualization](#customernodesvisualization)  \n",
    "- [Data Allocation Visualization](#dataallocationvisualization)\n",
    "- [Project Summary](#projectsummary)  \n",
    "\n",
    "<a id=\"projectobjective\"></a>  \n",
    "## Project Objective  \n",
    "\n",
    "- Prepare visualizations of key metrics from the customer nodes and data allocation analysis.  \n",
    "- Create marketing materials based on the obtained data.  \n",
    "- Present the information in a structured format to attract investors and new Data Bank customers.  \n",
    "\n",
    "**Source SQL Queries:**  \n",
    "All SQL queries used in this project are available at the following link:  \n",
    "[Original Queries](https://github.com/shdrn2402/Eight-week-SQL-challenge/tree/main/Case%20Study%20%234-Data%20Bank)  "
   ]
  },
  {
   "cell_type": "markdown",
   "id": "ed0ba044-8712-4cd1-b341-7f11335502ad",
   "metadata": {},
   "source": [
    "<a id=\"importrequiredlibraries\"></a>\n",
    "## Import Required Libraries"
   ]
  },
  {
   "cell_type": "code",
   "execution_count": 1,
   "id": "a9997fee-2b98-44b0-91da-15f7464680b1",
   "metadata": {},
   "outputs": [],
   "source": [
    "import matplotlib.pyplot as plt\n",
    "import pandas as pd\n",
    "import seaborn as sns\n",
    "\n",
    "from matplotlib.lines import Line2D\n",
    "from sklearn.preprocessing import MinMaxScaler"
   ]
  },
  {
   "cell_type": "markdown",
   "id": "be6d7eea-cc01-41a5-b1dd-e29dcf47ce29",
   "metadata": {},
   "source": [
    "<a id=\"customernodesvisualization\"></a> \n",
    "## Customer Nodes Visualization\n",
    "\n",
    "**Loading Required Data**"
   ]
  },
  {
   "cell_type": "code",
   "execution_count": 2,
   "id": "42e7cc3f-83ef-41e4-92db-d94214d6c242",
   "metadata": {},
   "outputs": [
    {
     "data": {
      "text/plain": [
       "unique_nodes_amount    5\n",
       "Name: 0, dtype: int64"
      ]
     },
     "execution_count": 2,
     "metadata": {},
     "output_type": "execute_result"
    }
   ],
   "source": [
    "unique_nodes_amount_df = pd.read_csv(\"data/unique_nodes.csv\")\n",
    "unique_nodes_amount_df.loc[0]"
   ]
  },
  {
   "cell_type": "code",
   "execution_count": 3,
   "id": "62ddc425-afcc-4e6b-94a1-84641160e53f",
   "metadata": {},
   "outputs": [
    {
     "data": {
      "text/html": [
       "<div>\n",
       "<style scoped>\n",
       "    .dataframe tbody tr th:only-of-type {\n",
       "        vertical-align: middle;\n",
       "    }\n",
       "\n",
       "    .dataframe tbody tr th {\n",
       "        vertical-align: top;\n",
       "    }\n",
       "\n",
       "    .dataframe thead th {\n",
       "        text-align: right;\n",
       "    }\n",
       "</style>\n",
       "<table border=\"1\" class=\"dataframe\">\n",
       "  <thead>\n",
       "    <tr style=\"text-align: right;\">\n",
       "      <th></th>\n",
       "      <th>unique_nodes_amount</th>\n",
       "    </tr>\n",
       "    <tr>\n",
       "      <th>region_name</th>\n",
       "      <th></th>\n",
       "    </tr>\n",
       "  </thead>\n",
       "  <tbody>\n",
       "    <tr>\n",
       "      <th>Africa</th>\n",
       "      <td>5</td>\n",
       "    </tr>\n",
       "    <tr>\n",
       "      <th>America</th>\n",
       "      <td>5</td>\n",
       "    </tr>\n",
       "    <tr>\n",
       "      <th>Asia</th>\n",
       "      <td>5</td>\n",
       "    </tr>\n",
       "    <tr>\n",
       "      <th>Australia</th>\n",
       "      <td>5</td>\n",
       "    </tr>\n",
       "    <tr>\n",
       "      <th>Europe</th>\n",
       "      <td>5</td>\n",
       "    </tr>\n",
       "  </tbody>\n",
       "</table>\n",
       "</div>"
      ],
      "text/plain": [
       "             unique_nodes_amount\n",
       "region_name                     \n",
       "Africa                         5\n",
       "America                        5\n",
       "Asia                           5\n",
       "Australia                      5\n",
       "Europe                         5"
      ]
     },
     "execution_count": 3,
     "metadata": {},
     "output_type": "execute_result"
    }
   ],
   "source": [
    "nodes_per_region_df = pd.read_csv(\"data/nodes_per_region.csv\")\n",
    "nodes_per_region_df.set_index(\"region_name\")"
   ]
  },
  {
   "cell_type": "code",
   "execution_count": 4,
   "id": "2a8165a3-05f5-4ce6-b237-4c17c898fd74",
   "metadata": {},
   "outputs": [
    {
     "data": {
      "text/html": [
       "<div>\n",
       "<style scoped>\n",
       "    .dataframe tbody tr th:only-of-type {\n",
       "        vertical-align: middle;\n",
       "    }\n",
       "\n",
       "    .dataframe tbody tr th {\n",
       "        vertical-align: top;\n",
       "    }\n",
       "\n",
       "    .dataframe thead th {\n",
       "        text-align: right;\n",
       "    }\n",
       "</style>\n",
       "<table border=\"1\" class=\"dataframe\">\n",
       "  <thead>\n",
       "    <tr style=\"text-align: right;\">\n",
       "      <th></th>\n",
       "      <th>customers_amount</th>\n",
       "    </tr>\n",
       "    <tr>\n",
       "      <th>region_name</th>\n",
       "      <th></th>\n",
       "    </tr>\n",
       "  </thead>\n",
       "  <tbody>\n",
       "    <tr>\n",
       "      <th>Australia</th>\n",
       "      <td>110</td>\n",
       "    </tr>\n",
       "    <tr>\n",
       "      <th>America</th>\n",
       "      <td>105</td>\n",
       "    </tr>\n",
       "    <tr>\n",
       "      <th>Africa</th>\n",
       "      <td>102</td>\n",
       "    </tr>\n",
       "    <tr>\n",
       "      <th>Asia</th>\n",
       "      <td>95</td>\n",
       "    </tr>\n",
       "    <tr>\n",
       "      <th>Europe</th>\n",
       "      <td>88</td>\n",
       "    </tr>\n",
       "  </tbody>\n",
       "</table>\n",
       "</div>"
      ],
      "text/plain": [
       "             customers_amount\n",
       "region_name                  \n",
       "Australia                 110\n",
       "America                   105\n",
       "Africa                    102\n",
       "Asia                       95\n",
       "Europe                     88"
      ]
     },
     "execution_count": 4,
     "metadata": {},
     "output_type": "execute_result"
    }
   ],
   "source": [
    "customers_per_region_df = pd.read_csv(\"data/customers_per_region.csv\")\n",
    "customers_per_region_df.set_index(\"region_name\")"
   ]
  },
  {
   "cell_type": "code",
   "execution_count": 5,
   "id": "1120045e-8f46-4f02-9689-50fac907828e",
   "metadata": {},
   "outputs": [
    {
     "data": {
      "text/plain": [
       "avg_days_on_node    23\n",
       "Name: 0, dtype: int64"
      ]
     },
     "execution_count": 5,
     "metadata": {},
     "output_type": "execute_result"
    }
   ],
   "source": [
    "avg_days_on_node_df = pd.read_csv(\"data/avg_days_on_node.csv\")\n",
    "avg_days_on_node_df.loc[0]"
   ]
  },
  {
   "cell_type": "code",
   "execution_count": 6,
   "id": "a9a13f7e-1044-473d-9e9d-5ad1b7144de3",
   "metadata": {},
   "outputs": [
    {
     "data": {
      "text/html": [
       "<div>\n",
       "<style scoped>\n",
       "    .dataframe tbody tr th:only-of-type {\n",
       "        vertical-align: middle;\n",
       "    }\n",
       "\n",
       "    .dataframe tbody tr th {\n",
       "        vertical-align: top;\n",
       "    }\n",
       "\n",
       "    .dataframe thead th {\n",
       "        text-align: right;\n",
       "    }\n",
       "</style>\n",
       "<table border=\"1\" class=\"dataframe\">\n",
       "  <thead>\n",
       "    <tr style=\"text-align: right;\">\n",
       "      <th></th>\n",
       "      <th>region_name</th>\n",
       "      <th>days_on_node</th>\n",
       "    </tr>\n",
       "  </thead>\n",
       "  <tbody>\n",
       "    <tr>\n",
       "      <th>0</th>\n",
       "      <td>Africa</td>\n",
       "      <td>20</td>\n",
       "    </tr>\n",
       "    <tr>\n",
       "      <th>1</th>\n",
       "      <td>Africa</td>\n",
       "      <td>55</td>\n",
       "    </tr>\n",
       "    <tr>\n",
       "      <th>2</th>\n",
       "      <td>Africa</td>\n",
       "      <td>33</td>\n",
       "    </tr>\n",
       "    <tr>\n",
       "      <th>3</th>\n",
       "      <td>Africa</td>\n",
       "      <td>1</td>\n",
       "    </tr>\n",
       "    <tr>\n",
       "      <th>4</th>\n",
       "      <td>Africa</td>\n",
       "      <td>56</td>\n",
       "    </tr>\n",
       "  </tbody>\n",
       "</table>\n",
       "</div>"
      ],
      "text/plain": [
       "  region_name  days_on_node\n",
       "0      Africa            20\n",
       "1      Africa            55\n",
       "2      Africa            33\n",
       "3      Africa             1\n",
       "4      Africa            56"
      ]
     },
     "execution_count": 6,
     "metadata": {},
     "output_type": "execute_result"
    }
   ],
   "source": [
    "percentile_days_on_node_df = pd.read_csv(\"data/percentile_days_on_node.csv\")\n",
    "percentile_days_on_node_df.head()"
   ]
  },
  {
   "cell_type": "markdown",
   "id": "3a6ef3db-f040-4d91-b697-3e949cefcdb5",
   "metadata": {},
   "source": [
    "**Customer Distribution by Region Visualization**"
   ]
  },
  {
   "cell_type": "code",
   "execution_count": 7,
   "id": "3c6802a6-f75f-444b-9d9e-38627cbbeda7",
   "metadata": {},
   "outputs": [
    {
     "data": {
      "image/png": "[encoded data removed]",
      "text/plain": [
       "<Figure size 640x480 with 1 Axes>"
      ]
     },
     "metadata": {},
     "output_type": "display_data"
    }
   ],
   "source": [
    "region_names = customers_per_region_df[\"region_name\"]\n",
    "customers_amount = customers_per_region_df[\"customers_amount\"]\n",
    "explode = (0.1, 0, 0, 0, 0)\n",
    "\n",
    "fig, ax = plt.subplots()\n",
    "ax.pie(x=customers_amount,\n",
    "       explode=explode,\n",
    "       labels=region_names,       \n",
    "       autopct=\"%.1f%%\",\n",
    "       counterclock=False,\n",
    "       shadow=True,\n",
    "       startangle=90)\n",
    "plt.title(\"Customer Distribution by Region\")\n",
    "plt.tight_layout()\n",
    "plt.show()"
   ]
  },
  {
   "cell_type": "markdown",
   "id": "c6f10f8d-f6ee-43db-874c-71ef80cb6ec9",
   "metadata": {},
   "source": [
    "**Distribution of Customer Node Reallocation Time Visualization**"
   ]
  },
  {
   "cell_type": "code",
   "execution_count": 8,
   "id": "262f80cd-86a1-4fd6-bf19-d6df6d85db0d",
   "metadata": {},
   "outputs": [
    {
     "data": {
      "image/png": "[encoded data removed]",
      "text/plain": [
       "<Figure size 500x300 with 1 Axes>"
      ]
     },
     "metadata": {},
     "output_type": "display_data"
    }
   ],
   "source": [
    "sns.set_style(\"whitegrid\", {\"grid.color\": \".3\", \"grid.linestyle\": \":\"})\n",
    "plt.figure(figsize=(5, 3))\n",
    "plt.box(False)\n",
    "\n",
    "palette = [\"#2ca02c\",\"#ff7f0e\",  \"#d62728\", \"#1f77b4\", \"#9467bd\"]\n",
    "order = list(customers_per_region_df[\"region_name\"])\n",
    "\n",
    "sns.boxplot(data=percentile_days_on_node_df,\n",
    "            x=\"region_name\",\n",
    "            y=\"days_on_node\",\n",
    "            hue=\"region_name\",\n",
    "            palette=palette,\n",
    "            order=order)\n",
    "\n",
    "plt.title(\"Distribution of Customer Node Reallocation Time\")\n",
    "plt.xlabel(\"\")\n",
    "plt.ylabel(\"days on node\")\n",
    "plt.tight_layout()\n",
    "plt.show()"
   ]
  },
  {
   "cell_type": "markdown",
   "id": "34f9e4f5-f158-4510-8eca-4898480c8029",
   "metadata": {},
   "source": [
    "## Data Allocation Visualization"
   ]
  },
  {
   "cell_type": "code",
   "execution_count": 9,
   "id": "706768bc-9a4e-407c-ae32-50b3458ff3f1",
   "metadata": {},
   "outputs": [
    {
     "data": {
      "text/html": [
       "<div>\n",
       "<style scoped>\n",
       "    .dataframe tbody tr th:only-of-type {\n",
       "        vertical-align: middle;\n",
       "    }\n",
       "\n",
       "    .dataframe tbody tr th {\n",
       "        vertical-align: top;\n",
       "    }\n",
       "\n",
       "    .dataframe thead th {\n",
       "        text-align: right;\n",
       "    }\n",
       "</style>\n",
       "<table border=\"1\" class=\"dataframe\">\n",
       "  <thead>\n",
       "    <tr style=\"text-align: right;\">\n",
       "      <th></th>\n",
       "      <th>customer_id</th>\n",
       "      <th>txn_date</th>\n",
       "      <th>cumulative_balance</th>\n",
       "      <th>simple_growth</th>\n",
       "      <th>compound_growth</th>\n",
       "    </tr>\n",
       "  </thead>\n",
       "  <tbody>\n",
       "    <tr>\n",
       "      <th>39720</th>\n",
       "      <td>500</td>\n",
       "      <td>21/03/2020</td>\n",
       "      <td>2380</td>\n",
       "      <td>101.0849</td>\n",
       "      <td>101.0907</td>\n",
       "    </tr>\n",
       "    <tr>\n",
       "      <th>39721</th>\n",
       "      <td>500</td>\n",
       "      <td>22/03/2020</td>\n",
       "      <td>1426</td>\n",
       "      <td>101.1014</td>\n",
       "      <td>101.1074</td>\n",
       "    </tr>\n",
       "    <tr>\n",
       "      <th>39722</th>\n",
       "      <td>500</td>\n",
       "      <td>23/03/2020</td>\n",
       "      <td>1426</td>\n",
       "      <td>101.1178</td>\n",
       "      <td>101.1240</td>\n",
       "    </tr>\n",
       "    <tr>\n",
       "      <th>39723</th>\n",
       "      <td>500</td>\n",
       "      <td>24/03/2020</td>\n",
       "      <td>1426</td>\n",
       "      <td>101.1342</td>\n",
       "      <td>101.1406</td>\n",
       "    </tr>\n",
       "    <tr>\n",
       "      <th>39724</th>\n",
       "      <td>500</td>\n",
       "      <td>25/03/2020</td>\n",
       "      <td>2251</td>\n",
       "      <td>101.1507</td>\n",
       "      <td>101.1572</td>\n",
       "    </tr>\n",
       "  </tbody>\n",
       "</table>\n",
       "</div>"
      ],
      "text/plain": [
       "       customer_id    txn_date  cumulative_balance  simple_growth  \\\n",
       "39720          500  21/03/2020                2380       101.0849   \n",
       "39721          500  22/03/2020                1426       101.1014   \n",
       "39722          500  23/03/2020                1426       101.1178   \n",
       "39723          500  24/03/2020                1426       101.1342   \n",
       "39724          500  25/03/2020                2251       101.1507   \n",
       "\n",
       "       compound_growth  \n",
       "39720         101.0907  \n",
       "39721         101.1074  \n",
       "39722         101.1240  \n",
       "39723         101.1406  \n",
       "39724         101.1572  "
      ]
     },
     "execution_count": 9,
     "metadata": {},
     "output_type": "execute_result"
    }
   ],
   "source": [
    "# Loading required data\n",
    "df = pd.read_csv(\"data/storage_volume.csv\")\n",
    "df.tail()"
   ]
  },
  {
   "cell_type": "code",
   "execution_count": 10,
   "id": "1dc234f9-d49e-4cd8-873b-de16810da745",
   "metadata": {},
   "outputs": [
    {
     "data": {
      "text/plain": [
       "customer_id           0\n",
       "txn_date              0\n",
       "cumulative_balance    0\n",
       "simple_growth         0\n",
       "compound_growth       0\n",
       "dtype: int64"
      ]
     },
     "execution_count": 10,
     "metadata": {},
     "output_type": "execute_result"
    }
   ],
   "source": [
    "# Check for missing values in the dataset\n",
    "df.isna().sum()"
   ]
  },
  {
   "cell_type": "code",
   "execution_count": 11,
   "id": "9931ba86-ddcf-4508-a448-8a9fdedfd690",
   "metadata": {},
   "outputs": [
    {
     "data": {
      "text/plain": [
       "customer_id             int64\n",
       "txn_date               object\n",
       "cumulative_balance      int64\n",
       "simple_growth         float64\n",
       "compound_growth       float64\n",
       "dtype: object"
      ]
     },
     "execution_count": 11,
     "metadata": {},
     "output_type": "execute_result"
    }
   ],
   "source": [
    "# Check for correct data types\n",
    "df.dtypes"
   ]
  },
  {
   "cell_type": "code",
   "execution_count": 12,
   "id": "56c757c3-838b-4fe1-9de1-9cfa785fa897",
   "metadata": {},
   "outputs": [
    {
     "data": {
      "text/plain": [
       "customer_id                    int64\n",
       "txn_date              datetime64[ns]\n",
       "cumulative_balance             int64\n",
       "simple_growth                float64\n",
       "compound_growth              float64\n",
       "dtype: object"
      ]
     },
     "execution_count": 12,
     "metadata": {},
     "output_type": "execute_result"
    }
   ],
   "source": [
    "df[\"txn_date\"] = pd.to_datetime(df[\"txn_date\"], format=\"%d/%m/%Y\")\n",
    "df.dtypes"
   ]
  },
  {
   "cell_type": "markdown",
   "id": "69bef8df-797a-4b7a-98b9-88f23ae7499f",
   "metadata": {},
   "source": [
    "**For visualization purposes, we use a single customer selected based on maximum service usage and a diverse balance history (including both positive and negative balances)**"
   ]
  },
  {
   "cell_type": "code",
   "execution_count": 13,
   "id": "734574ad-295c-41fe-9f38-29b4f82e2b45",
   "metadata": {},
   "outputs": [
    {
     "data": {
      "text/plain": [
       "customer_id\n",
       "476    90\n",
       "472    90\n",
       "33     90\n",
       "30     90\n",
       "22     90\n",
       "Name: txn_date, dtype: int64"
      ]
     },
     "execution_count": 13,
     "metadata": {},
     "output_type": "execute_result"
    }
   ],
   "source": [
    "# Finding customers with the longest usage period\n",
    "df.groupby(\"customer_id\")[\"txn_date\"].count().sort_values(ascending=False).head(5)"
   ]
  },
  {
   "cell_type": "code",
   "execution_count": 14,
   "id": "20963174-3245-473c-a383-fea19a48fa53",
   "metadata": {},
   "outputs": [
    {
     "data": {
      "text/html": [
       "<div>\n",
       "<style scoped>\n",
       "    .dataframe tbody tr th:only-of-type {\n",
       "        vertical-align: middle;\n",
       "    }\n",
       "\n",
       "    .dataframe tbody tr th {\n",
       "        vertical-align: top;\n",
       "    }\n",
       "\n",
       "    .dataframe thead th {\n",
       "        text-align: right;\n",
       "    }\n",
       "</style>\n",
       "<table border=\"1\" class=\"dataframe\">\n",
       "  <thead>\n",
       "    <tr style=\"text-align: right;\">\n",
       "      <th></th>\n",
       "      <th>customer_id</th>\n",
       "      <th>txn_date</th>\n",
       "      <th>cumulative_balance</th>\n",
       "      <th>simple_growth</th>\n",
       "      <th>compound_growth</th>\n",
       "    </tr>\n",
       "  </thead>\n",
       "  <tbody>\n",
       "    <tr>\n",
       "      <th>82</th>\n",
       "      <td>472</td>\n",
       "      <td>2020-04-09</td>\n",
       "      <td>-253</td>\n",
       "      <td>101.3644</td>\n",
       "      <td>101.3736</td>\n",
       "    </tr>\n",
       "    <tr>\n",
       "      <th>64</th>\n",
       "      <td>472</td>\n",
       "      <td>2020-03-22</td>\n",
       "      <td>-505</td>\n",
       "      <td>101.0685</td>\n",
       "      <td>101.0741</td>\n",
       "    </tr>\n",
       "    <tr>\n",
       "      <th>32</th>\n",
       "      <td>472</td>\n",
       "      <td>2020-02-19</td>\n",
       "      <td>-202</td>\n",
       "      <td>100.5425</td>\n",
       "      <td>100.5439</td>\n",
       "    </tr>\n",
       "    <tr>\n",
       "      <th>39</th>\n",
       "      <td>472</td>\n",
       "      <td>2020-02-26</td>\n",
       "      <td>-202</td>\n",
       "      <td>100.6575</td>\n",
       "      <td>100.6596</td>\n",
       "    </tr>\n",
       "    <tr>\n",
       "      <th>54</th>\n",
       "      <td>472</td>\n",
       "      <td>2020-03-12</td>\n",
       "      <td>-174</td>\n",
       "      <td>100.9041</td>\n",
       "      <td>100.9081</td>\n",
       "    </tr>\n",
       "  </tbody>\n",
       "</table>\n",
       "</div>"
      ],
      "text/plain": [
       "    customer_id   txn_date  cumulative_balance  simple_growth  compound_growth\n",
       "82          472 2020-04-09                -253       101.3644         101.3736\n",
       "64          472 2020-03-22                -505       101.0685         101.0741\n",
       "32          472 2020-02-19                -202       100.5425         100.5439\n",
       "39          472 2020-02-26                -202       100.6575         100.6596\n",
       "54          472 2020-03-12                -174       100.9041         100.9081"
      ]
     },
     "execution_count": 14,
     "metadata": {},
     "output_type": "execute_result"
    }
   ],
   "source": [
    "# Filter data for customer with ID 472\n",
    "df_to_plot = df[df[\"customer_id\"] == 472].copy().reset_index(drop=True)\n",
    "df_to_plot.sample(5)"
   ]
  },
  {
   "cell_type": "markdown",
   "id": "0bb8aeed-4806-4ac5-964c-4fb54e0e14a2",
   "metadata": {},
   "source": [
    "**Since balance values have a much larger range compared to storage volume, direct plotting would make storage volume changes barely noticeable. Normalization ensures both metrics are displayed on a comparable scale, improving visualization clarity.**"
   ]
  },
  {
   "cell_type": "code",
   "execution_count": 15,
   "id": "959221af-e7c0-4ec9-bead-a5d7438cdaf7",
   "metadata": {},
   "outputs": [
    {
     "data": {
      "text/html": [
       "<div>\n",
       "<style scoped>\n",
       "    .dataframe tbody tr th:only-of-type {\n",
       "        vertical-align: middle;\n",
       "    }\n",
       "\n",
       "    .dataframe tbody tr th {\n",
       "        vertical-align: top;\n",
       "    }\n",
       "\n",
       "    .dataframe thead th {\n",
       "        text-align: right;\n",
       "    }\n",
       "</style>\n",
       "<table border=\"1\" class=\"dataframe\">\n",
       "  <thead>\n",
       "    <tr style=\"text-align: right;\">\n",
       "      <th></th>\n",
       "      <th>customer_id</th>\n",
       "      <th>txn_date</th>\n",
       "      <th>cumulative_balance</th>\n",
       "      <th>simple_growth</th>\n",
       "      <th>compound_growth</th>\n",
       "    </tr>\n",
       "  </thead>\n",
       "  <tbody>\n",
       "    <tr>\n",
       "      <th>0</th>\n",
       "      <td>472</td>\n",
       "      <td>2020-01-18</td>\n",
       "      <td>0.853296</td>\n",
       "      <td>0.000000</td>\n",
       "      <td>0.000000</td>\n",
       "    </tr>\n",
       "    <tr>\n",
       "      <th>1</th>\n",
       "      <td>472</td>\n",
       "      <td>2020-01-19</td>\n",
       "      <td>0.608635</td>\n",
       "      <td>0.022237</td>\n",
       "      <td>0.022076</td>\n",
       "    </tr>\n",
       "    <tr>\n",
       "      <th>2</th>\n",
       "      <td>472</td>\n",
       "      <td>2020-01-20</td>\n",
       "      <td>0.608635</td>\n",
       "      <td>0.033322</td>\n",
       "      <td>0.033081</td>\n",
       "    </tr>\n",
       "    <tr>\n",
       "      <th>3</th>\n",
       "      <td>472</td>\n",
       "      <td>2020-01-21</td>\n",
       "      <td>0.608635</td>\n",
       "      <td>0.044474</td>\n",
       "      <td>0.044152</td>\n",
       "    </tr>\n",
       "    <tr>\n",
       "      <th>4</th>\n",
       "      <td>472</td>\n",
       "      <td>2020-01-22</td>\n",
       "      <td>0.608635</td>\n",
       "      <td>0.055559</td>\n",
       "      <td>0.055157</td>\n",
       "    </tr>\n",
       "  </tbody>\n",
       "</table>\n",
       "</div>"
      ],
      "text/plain": [
       "   customer_id   txn_date  cumulative_balance  simple_growth  compound_growth\n",
       "0          472 2020-01-18            0.853296       0.000000         0.000000\n",
       "1          472 2020-01-19            0.608635       0.022237         0.022076\n",
       "2          472 2020-01-20            0.608635       0.033322         0.033081\n",
       "3          472 2020-01-21            0.608635       0.044474         0.044152\n",
       "4          472 2020-01-22            0.608635       0.055559         0.055157"
      ]
     },
     "execution_count": 15,
     "metadata": {},
     "output_type": "execute_result"
    }
   ],
   "source": [
    "# Save variables before normalization to correctly determine the zero balance level after scaling\n",
    "min_balance = df[\"cumulative_balance\"].min()\n",
    "max_balance = df[\"cumulative_balance\"].max()\n",
    "zero_balance = 0\n",
    "\n",
    "scaler = MinMaxScaler()\n",
    "df_to_plot[[\"cumulative_balance\", \"simple_growth\", \"compound_growth\"]] = scaler.fit_transform(df_to_plot[[\"cumulative_balance\", \"simple_growth\", \"compound_growth\"]])\n",
    "\n",
    "# Normalize the zero balance value to maintain correct reference after scaling\n",
    "zero_balance_norm = (zero_balance - min_balance) / (max_balance - min_balance)\n",
    "\n",
    "df_to_plot.head()"
   ]
  },
  {
   "cell_type": "markdown",
   "id": "5ee109f7-5cf0-4bfa-95ef-0704592e15d1",
   "metadata": {},
   "source": [
    "**To compare `simple growth`, and `compound growth` on the same timeline, we reshape the DataFrame into a long format. This allows plotting multiple metrics with a single categorical variable.**"
   ]
  },
  {
   "cell_type": "code",
   "execution_count": 18,
   "id": "e446bdcf-ff1e-4015-9f74-efb52e611113",
   "metadata": {},
   "outputs": [
    {
     "data": {
      "text/html": [
       "<div>\n",
       "<style scoped>\n",
       "    .dataframe tbody tr th:only-of-type {\n",
       "        vertical-align: middle;\n",
       "    }\n",
       "\n",
       "    .dataframe tbody tr th {\n",
       "        vertical-align: top;\n",
       "    }\n",
       "\n",
       "    .dataframe thead th {\n",
       "        text-align: right;\n",
       "    }\n",
       "</style>\n",
       "<table border=\"1\" class=\"dataframe\">\n",
       "  <thead>\n",
       "    <tr style=\"text-align: right;\">\n",
       "      <th></th>\n",
       "      <th>txn_date</th>\n",
       "      <th>growth_method</th>\n",
       "      <th>value</th>\n",
       "    </tr>\n",
       "  </thead>\n",
       "  <tbody>\n",
       "    <tr>\n",
       "      <th>0</th>\n",
       "      <td>2020-01-18</td>\n",
       "      <td>cumulative_balance</td>\n",
       "      <td>0.853296</td>\n",
       "    </tr>\n",
       "    <tr>\n",
       "      <th>1</th>\n",
       "      <td>2020-01-19</td>\n",
       "      <td>cumulative_balance</td>\n",
       "      <td>0.608635</td>\n",
       "    </tr>\n",
       "    <tr>\n",
       "      <th>2</th>\n",
       "      <td>2020-01-20</td>\n",
       "      <td>cumulative_balance</td>\n",
       "      <td>0.608635</td>\n",
       "    </tr>\n",
       "    <tr>\n",
       "      <th>3</th>\n",
       "      <td>2020-01-21</td>\n",
       "      <td>cumulative_balance</td>\n",
       "      <td>0.608635</td>\n",
       "    </tr>\n",
       "    <tr>\n",
       "      <th>4</th>\n",
       "      <td>2020-01-22</td>\n",
       "      <td>cumulative_balance</td>\n",
       "      <td>0.608635</td>\n",
       "    </tr>\n",
       "  </tbody>\n",
       "</table>\n",
       "</div>"
      ],
      "text/plain": [
       "    txn_date       growth_method     value\n",
       "0 2020-01-18  cumulative_balance  0.853296\n",
       "1 2020-01-19  cumulative_balance  0.608635\n",
       "2 2020-01-20  cumulative_balance  0.608635\n",
       "3 2020-01-21  cumulative_balance  0.608635\n",
       "4 2020-01-22  cumulative_balance  0.608635"
      ]
     },
     "execution_count": 18,
     "metadata": {},
     "output_type": "execute_result"
    }
   ],
   "source": [
    "dfl_to_plot = pd.melt(df_to_plot[[\"txn_date\", \"cumulative_balance\", \"simple_growth\", \"compound_growth\"]],\n",
    "                      id_vars=\"txn_date\",\n",
    "                      value_vars=(\"cumulative_balance\", \"simple_growth\", \"compound_growth\"),\n",
    "                      var_name=\"growth_method\"\n",
    "                     )\n",
    "dfl_to_plot.head()"
   ]
  },
  {
   "cell_type": "code",
   "execution_count": 34,
   "id": "c16d8f7d-0dff-4103-8369-ade017ab6580",
   "metadata": {},
   "outputs": [
    {
     "data": {
      "image/png": "[encoded data removed]",
      "text/plain": [
       "<Figure size 700x400 with 1 Axes>"
      ]
     },
     "metadata": {},
     "output_type": "display_data"
    }
   ],
   "source": [
    "plt.figure(figsize=(7, 4))\n",
    "plt.box(False)\n",
    "\n",
    "palette = [\"#2ca02c\", \"#9467bd\", \"#d62728\"]\n",
    "\n",
    "dashes = {\n",
    "    \"cumulative_balance\": \"\",\n",
    "    \"simple_growth\": (4, 2),\n",
    "    \"compound_growth\": (1, 2),\n",
    "}\n",
    "\n",
    "sns.lineplot(data=dfl_to_plot,\n",
    "             x=\"txn_date\",\n",
    "             y=\"value\",\n",
    "             hue=\"growth_method\",\n",
    "             palette=palette,\n",
    "             style=\"growth_method\",\n",
    "             dashes=dashes\n",
    "            )\n",
    "\n",
    "# Add a horizontal line at the zero balance level\n",
    "plt.axhline(y=zero_balance_norm, color=\"gray\", linestyle=\"--\")\n",
    "\n",
    "# Retrieve current legend elements (lines and their labels)\n",
    "handles, labels = plt.gca().get_legend_handles_labels()\n",
    "\n",
    "# Create a line object for display in the legend\n",
    "zero_balance_line = Line2D([0], [0], color=\"gray\", linestyle=\"--\", label=\"zero_balancelevel\")\n",
    "# Append the new line to the list of legend elements\n",
    "handles.append(zero_balance_line)\n",
    "labels.append(\"zero balance level\")\n",
    "\n",
    "plt.legend(handles=handles, labels=labels)\n",
    "plt.title(\"Cloud Storage Growth vs. Account Balance Over Time\")\n",
    "plt.xlabel(\"date\")\n",
    "plt.xticks(rotation=45, fontsize=9)\n",
    "plt.ylabel(\"cloud storage volume\")\n",
    "\n",
    "\n",
    "plt.tight_layout()\n",
    "plt.show()"
   ]
  },
  {
   "cell_type": "code",
   "execution_count": null,
   "id": "0754be28-be9d-4b44-bebf-84367d8afd0d",
   "metadata": {},
   "outputs": [],
   "source": []
  }
 ],
 "metadata": {
  "kernelspec": {
   "display_name": "Python 3 (ipykernel)",
   "language": "python",
   "name": "python3"
  },
  "language_info": {
   "codemirror_mode": {
    "name": "ipython",
    "version": 3
   },
   "file_extension": ".py",
   "mimetype": "text/x-python",
   "name": "python",
   "nbconvert_exporter": "python",
   "pygments_lexer": "ipython3",
   "version": "3.10.0"
  }
 },
 "nbformat": 4,
 "nbformat_minor": 5
}
